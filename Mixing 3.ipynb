{
 "cells": [
  {
   "cell_type": "code",
   "id": "162d5a4d053ab3d7",
   "metadata": {
    "collapsed": true,
    "ExecuteTime": {
     "end_time": "2024-10-28T03:08:18.587491Z",
     "start_time": "2024-10-28T03:08:18.080689Z"
    }
   },
   "source": [
    "import pandas as pd\n",
    "import matplotlib.pyplot as plt"
   ],
   "outputs": [],
   "execution_count": 1
  },
  {
   "metadata": {
    "ExecuteTime": {
     "end_time": "2024-10-28T03:08:18.605729Z",
     "start_time": "2024-10-28T03:08:18.588415Z"
    }
   },
   "cell_type": "code",
   "source": [
    "df = pd.read_csv('second measurments.csv')\n",
    "df.head()"
   ],
   "id": "939443af5ca5bb78",
   "outputs": [
    {
     "data": {
      "text/plain": [
       "   Time t / s  Voltage U_B1 / V  Temperature &J_A11 / °C  \\\n",
       "0       0.000              4.98                20.271380   \n",
       "1       0.101              4.98                20.271380   \n",
       "2       0.200              4.98                20.170278   \n",
       "3       0.300              4.98                20.170278   \n",
       "4       0.399              4.98                20.271380   \n",
       "\n",
       "   Temperature &J_A12 / °C  \n",
       "0                22.985685  \n",
       "1                23.086787  \n",
       "2                22.985685  \n",
       "3                23.086787  \n",
       "4                23.187889  "
      ],
      "text/html": [
       "<div>\n",
       "<style scoped>\n",
       "    .dataframe tbody tr th:only-of-type {\n",
       "        vertical-align: middle;\n",
       "    }\n",
       "\n",
       "    .dataframe tbody tr th {\n",
       "        vertical-align: top;\n",
       "    }\n",
       "\n",
       "    .dataframe thead th {\n",
       "        text-align: right;\n",
       "    }\n",
       "</style>\n",
       "<table border=\"1\" class=\"dataframe\">\n",
       "  <thead>\n",
       "    <tr style=\"text-align: right;\">\n",
       "      <th></th>\n",
       "      <th>Time t / s</th>\n",
       "      <th>Voltage U_B1 / V</th>\n",
       "      <th>Temperature &amp;J_A11 / °C</th>\n",
       "      <th>Temperature &amp;J_A12 / °C</th>\n",
       "    </tr>\n",
       "  </thead>\n",
       "  <tbody>\n",
       "    <tr>\n",
       "      <th>0</th>\n",
       "      <td>0.000</td>\n",
       "      <td>4.98</td>\n",
       "      <td>20.271380</td>\n",
       "      <td>22.985685</td>\n",
       "    </tr>\n",
       "    <tr>\n",
       "      <th>1</th>\n",
       "      <td>0.101</td>\n",
       "      <td>4.98</td>\n",
       "      <td>20.271380</td>\n",
       "      <td>23.086787</td>\n",
       "    </tr>\n",
       "    <tr>\n",
       "      <th>2</th>\n",
       "      <td>0.200</td>\n",
       "      <td>4.98</td>\n",
       "      <td>20.170278</td>\n",
       "      <td>22.985685</td>\n",
       "    </tr>\n",
       "    <tr>\n",
       "      <th>3</th>\n",
       "      <td>0.300</td>\n",
       "      <td>4.98</td>\n",
       "      <td>20.170278</td>\n",
       "      <td>23.086787</td>\n",
       "    </tr>\n",
       "    <tr>\n",
       "      <th>4</th>\n",
       "      <td>0.399</td>\n",
       "      <td>4.98</td>\n",
       "      <td>20.271380</td>\n",
       "      <td>23.187889</td>\n",
       "    </tr>\n",
       "  </tbody>\n",
       "</table>\n",
       "</div>"
      ]
     },
     "execution_count": 2,
     "metadata": {},
     "output_type": "execute_result"
    }
   ],
   "execution_count": 2
  },
  {
   "metadata": {
    "ExecuteTime": {
     "end_time": "2024-10-28T03:08:18.611199Z",
     "start_time": "2024-10-28T03:08:18.606352Z"
    }
   },
   "cell_type": "code",
   "source": [
    "df = df.drop('Voltage U_B1 / V', axis=1)\n",
    "df.head()"
   ],
   "id": "6fe23a0cb9c8e820",
   "outputs": [
    {
     "data": {
      "text/plain": [
       "   Time t / s  Temperature &J_A11 / °C  Temperature &J_A12 / °C\n",
       "0       0.000                20.271380                22.985685\n",
       "1       0.101                20.271380                23.086787\n",
       "2       0.200                20.170278                22.985685\n",
       "3       0.300                20.170278                23.086787\n",
       "4       0.399                20.271380                23.187889"
      ],
      "text/html": [
       "<div>\n",
       "<style scoped>\n",
       "    .dataframe tbody tr th:only-of-type {\n",
       "        vertical-align: middle;\n",
       "    }\n",
       "\n",
       "    .dataframe tbody tr th {\n",
       "        vertical-align: top;\n",
       "    }\n",
       "\n",
       "    .dataframe thead th {\n",
       "        text-align: right;\n",
       "    }\n",
       "</style>\n",
       "<table border=\"1\" class=\"dataframe\">\n",
       "  <thead>\n",
       "    <tr style=\"text-align: right;\">\n",
       "      <th></th>\n",
       "      <th>Time t / s</th>\n",
       "      <th>Temperature &amp;J_A11 / °C</th>\n",
       "      <th>Temperature &amp;J_A12 / °C</th>\n",
       "    </tr>\n",
       "  </thead>\n",
       "  <tbody>\n",
       "    <tr>\n",
       "      <th>0</th>\n",
       "      <td>0.000</td>\n",
       "      <td>20.271380</td>\n",
       "      <td>22.985685</td>\n",
       "    </tr>\n",
       "    <tr>\n",
       "      <th>1</th>\n",
       "      <td>0.101</td>\n",
       "      <td>20.271380</td>\n",
       "      <td>23.086787</td>\n",
       "    </tr>\n",
       "    <tr>\n",
       "      <th>2</th>\n",
       "      <td>0.200</td>\n",
       "      <td>20.170278</td>\n",
       "      <td>22.985685</td>\n",
       "    </tr>\n",
       "    <tr>\n",
       "      <th>3</th>\n",
       "      <td>0.300</td>\n",
       "      <td>20.170278</td>\n",
       "      <td>23.086787</td>\n",
       "    </tr>\n",
       "    <tr>\n",
       "      <th>4</th>\n",
       "      <td>0.399</td>\n",
       "      <td>20.271380</td>\n",
       "      <td>23.187889</td>\n",
       "    </tr>\n",
       "  </tbody>\n",
       "</table>\n",
       "</div>"
      ]
     },
     "execution_count": 3,
     "metadata": {},
     "output_type": "execute_result"
    }
   ],
   "execution_count": 3
  },
  {
   "metadata": {
    "ExecuteTime": {
     "end_time": "2024-10-28T03:08:18.616293Z",
     "start_time": "2024-10-28T03:08:18.612685Z"
    }
   },
   "cell_type": "code",
   "source": [
    "df = df.rename(columns={'Time t / s': 'Time', 'Temperature &J_A11 / °C': 'Temperature 1 (C)',\n",
    "                        'Temperature &J_A12 / °C': 'Temperature 2 (C)'})\n",
    "df.head()"
   ],
   "id": "924e31d5628e9cd7",
   "outputs": [
    {
     "data": {
      "text/plain": [
       "    Time  Temperature 1 (C)  Temperature 2 (C)\n",
       "0  0.000          20.271380          22.985685\n",
       "1  0.101          20.271380          23.086787\n",
       "2  0.200          20.170278          22.985685\n",
       "3  0.300          20.170278          23.086787\n",
       "4  0.399          20.271380          23.187889"
      ],
      "text/html": [
       "<div>\n",
       "<style scoped>\n",
       "    .dataframe tbody tr th:only-of-type {\n",
       "        vertical-align: middle;\n",
       "    }\n",
       "\n",
       "    .dataframe tbody tr th {\n",
       "        vertical-align: top;\n",
       "    }\n",
       "\n",
       "    .dataframe thead th {\n",
       "        text-align: right;\n",
       "    }\n",
       "</style>\n",
       "<table border=\"1\" class=\"dataframe\">\n",
       "  <thead>\n",
       "    <tr style=\"text-align: right;\">\n",
       "      <th></th>\n",
       "      <th>Time</th>\n",
       "      <th>Temperature 1 (C)</th>\n",
       "      <th>Temperature 2 (C)</th>\n",
       "    </tr>\n",
       "  </thead>\n",
       "  <tbody>\n",
       "    <tr>\n",
       "      <th>0</th>\n",
       "      <td>0.000</td>\n",
       "      <td>20.271380</td>\n",
       "      <td>22.985685</td>\n",
       "    </tr>\n",
       "    <tr>\n",
       "      <th>1</th>\n",
       "      <td>0.101</td>\n",
       "      <td>20.271380</td>\n",
       "      <td>23.086787</td>\n",
       "    </tr>\n",
       "    <tr>\n",
       "      <th>2</th>\n",
       "      <td>0.200</td>\n",
       "      <td>20.170278</td>\n",
       "      <td>22.985685</td>\n",
       "    </tr>\n",
       "    <tr>\n",
       "      <th>3</th>\n",
       "      <td>0.300</td>\n",
       "      <td>20.170278</td>\n",
       "      <td>23.086787</td>\n",
       "    </tr>\n",
       "    <tr>\n",
       "      <th>4</th>\n",
       "      <td>0.399</td>\n",
       "      <td>20.271380</td>\n",
       "      <td>23.187889</td>\n",
       "    </tr>\n",
       "  </tbody>\n",
       "</table>\n",
       "</div>"
      ]
     },
     "execution_count": 4,
     "metadata": {},
     "output_type": "execute_result"
    }
   ],
   "execution_count": 4
  },
  {
   "metadata": {
    "ExecuteTime": {
     "end_time": "2024-10-28T03:08:18.620988Z",
     "start_time": "2024-10-28T03:08:18.616922Z"
    }
   },
   "cell_type": "code",
   "source": "df.info",
   "id": "82f94a0fd5c3a79c",
   "outputs": [
    {
     "data": {
      "text/plain": [
       "<bound method DataFrame.info of          Time  Temperature 1 (C)  Temperature 2 (C)\n",
       "0       0.000          20.271380          22.985685\n",
       "1       0.101          20.271380          23.086787\n",
       "2       0.200          20.170278          22.985685\n",
       "3       0.300          20.170278          23.086787\n",
       "4       0.399          20.271380          23.187889\n",
       "...       ...                ...                ...\n",
       "3893  389.300          22.136365          21.456851\n",
       "3894  389.399          22.035263          21.456851\n",
       "3895  389.500          22.136365          21.456851\n",
       "3896  389.601          22.136365          21.456851\n",
       "3897  389.699          22.035263          21.456851\n",
       "\n",
       "[3898 rows x 3 columns]>"
      ]
     },
     "execution_count": 5,
     "metadata": {},
     "output_type": "execute_result"
    }
   ],
   "execution_count": 5
  },
  {
   "metadata": {
    "ExecuteTime": {
     "end_time": "2024-10-28T03:08:18.628465Z",
     "start_time": "2024-10-28T03:08:18.621515Z"
    }
   },
   "cell_type": "code",
   "source": [
    "df = df.drop_duplicates(subset=['Temperature 1 (C)', 'Temperature 2 (C)'], keep='first', ignore_index=True)\n",
    "df = df.apply(pd.to_numeric, errors='coerce')\n",
    "df.info"
   ],
   "id": "d07ad9e895a2da21",
   "outputs": [
    {
     "data": {
      "text/plain": [
       "<bound method DataFrame.info of          Time  Temperature 1 (C)  Temperature 2 (C)\n",
       "0       0.000          20.271380          22.985685\n",
       "1       0.101          20.271380          23.086787\n",
       "2       0.200          20.170278          22.985685\n",
       "3       0.300          20.170278          23.086787\n",
       "4       0.399          20.271380          23.187889\n",
       "...       ...                ...                ...\n",
       "1087  387.400          22.439671          21.456851\n",
       "1088  388.100          22.338569          21.456851\n",
       "1089  388.300          22.237467          21.456851\n",
       "1090  389.300          22.136365          21.456851\n",
       "1091  389.399          22.035263          21.456851\n",
       "\n",
       "[1092 rows x 3 columns]>"
      ]
     },
     "execution_count": 6,
     "metadata": {},
     "output_type": "execute_result"
    }
   ],
   "execution_count": 6
  },
  {
   "metadata": {
    "ExecuteTime": {
     "end_time": "2024-10-28T03:08:18.764802Z",
     "start_time": "2024-10-28T03:08:18.629554Z"
    }
   },
   "cell_type": "code",
   "source": [
    "fig, ax1 = plt.subplots(figsize=(10, 6))\n",
    "\n",
    "ax1.set_xlabel('Time (s)')\n",
    "ax1.set_ylabel('Temperature 1 (°C)', color='green')\n",
    "ax1.plot(df['Time'], df['Temperature 1 (C)'], color='green', label='Temperature 1 (°C)')\n",
    "ax1.tick_params(axis='y', labelcolor='green')\n",
    "ax2 = ax1.twinx()\n",
    "ax2.set_ylabel('Temperature 2 (°C)', color='blue')\n",
    "ax2.plot(df['Time'], df['Temperature 2 (C)'], color='blue', label='Temperature 2 (°C)')\n",
    "ax2.tick_params(axis='y', labelcolor='blue')\n",
    "ax1.legend(loc='upper left')\n",
    "ax2.legend(loc='upper right')\n",
    "plt.title('Mixing experiment 3 : Time vs Temperature ')\n",
    "plt.show()"
   ],
   "id": "initial_id",
   "outputs": [
    {
     "data": {
      "text/plain": [
       "<Figure size 1000x600 with 2 Axes>"
      ],
      "image/png": "[encoded data removed]"
     },
     "metadata": {},
     "output_type": "display_data"
    }
   ],
   "execution_count": 7
  }
 ],
 "metadata": {
  "kernelspec": {
   "display_name": "Python 3",
   "language": "python",
   "name": "python3"
  },
  "language_info": {
   "codemirror_mode": {
    "name": "ipython",
    "version": 2
   },
   "file_extension": ".py",
   "mimetype": "text/x-python",
   "name": "python",
   "nbconvert_exporter": "python",
   "pygments_lexer": "ipython2",
   "version": "2.7.6"
  }
 },
 "nbformat": 4,
 "nbformat_minor": 5
}
